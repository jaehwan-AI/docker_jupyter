{
 "cells": [
  {
   "cell_type": "markdown",
   "id": "engaging-gates",
   "metadata": {},
   "source": [
    "## GPU 드라이버 확인"
   ]
  },
  {
   "cell_type": "code",
   "execution_count": 1,
   "id": "brazilian-instruction",
   "metadata": {},
   "outputs": [
    {
     "name": "stdout",
     "output_type": "stream",
     "text": [
      "Tue Feb 22 05:32:41 2022       \r\n",
      "+-----------------------------------------------------------------------------+\r\n",
      "| NVIDIA-SMI 470.103.01   Driver Version: 470.103.01   CUDA Version: 11.4     |\r\n",
      "|-------------------------------+----------------------+----------------------+\r\n",
      "| GPU  Name        Persistence-M| Bus-Id        Disp.A | Volatile Uncorr. ECC |\r\n",
      "| Fan  Temp  Perf  Pwr:Usage/Cap|         Memory-Usage | GPU-Util  Compute M. |\r\n",
      "|                               |                      |               MIG M. |\r\n",
      "|===============================+======================+======================|\r\n",
      "|   0  NVIDIA GeForce ...  Off  | 00000000:01:00.0  On |                  N/A |\r\n",
      "| 27%   23C    P8     6W / 180W |    101MiB /  8116MiB |      0%      Default |\r\n",
      "|                               |                      |                  N/A |\r\n",
      "+-------------------------------+----------------------+----------------------+\r\n",
      "                                                                               \r\n",
      "+-----------------------------------------------------------------------------+\r\n",
      "| Processes:                                                                  |\r\n",
      "|  GPU   GI   CI        PID   Type   Process name                  GPU Memory |\r\n",
      "|        ID   ID                                                   Usage      |\r\n",
      "|=============================================================================|\r\n",
      "+-----------------------------------------------------------------------------+\r\n"
     ]
    }
   ],
   "source": [
    "!nvidia-smi"
   ]
  },
  {
   "cell_type": "markdown",
   "id": "norwegian-niagara",
   "metadata": {},
   "source": [
    "## TensorFlow"
   ]
  },
  {
   "cell_type": "code",
   "execution_count": 1,
   "id": "possible-instruction",
   "metadata": {},
   "outputs": [
    {
     "name": "stdout",
     "output_type": "stream",
     "text": [
      "tf.__version__: 2.6.0\n",
      "[PhysicalDevice(name='/physical_device:GPU:0', device_type='GPU')]\n"
     ]
    }
   ],
   "source": [
    "import os\n",
    "os.environ['TF_CPP_MIN_LOG_LEVEL'] = '3' \n",
    "\n",
    "import tensorflow as tf\n",
    "\n",
    "print(f'tf.__version__: {tf.__version__}')\n",
    "\n",
    "gpus = tf.config.experimental.list_physical_devices('GPU')\n",
    "print(gpus)"
   ]
  },
  {
   "cell_type": "markdown",
   "id": "synthetic-atlanta",
   "metadata": {},
   "source": [
    "## 한글 폰트 시각화 확인"
   ]
  },
  {
   "cell_type": "code",
   "execution_count": 3,
   "id": "automatic-interaction",
   "metadata": {},
   "outputs": [
    {
     "name": "stdout",
     "output_type": "stream",
     "text": [
      "matplotlib: 3.5.1\n",
      "pandas: 1.2.5\n"
     ]
    }
   ],
   "source": [
    "import matplotlib\n",
    "import matplotlib.pyplot as plt\n",
    "import pandas as pd\n",
    "\n",
    "print(f'matplotlib: {matplotlib.__version__}')\n",
    "print(f'pandas: {pd.__version__}')\n",
    "\n",
    "# Unicode warning 제거 (폰트 관련 경고메시지)\n",
    "plt.rcParams['axes.unicode_minus']=False\n",
    "\n",
    "# 그래프 출력 사이즈 설정\n",
    "plt.rcParams[\"figure.figsize\"] = (10, 6)"
   ]
  },
  {
   "cell_type": "code",
   "execution_count": 4,
   "id": "excited-salon",
   "metadata": {},
   "outputs": [
    {
     "name": "stderr",
     "output_type": "stream",
     "text": [
      "findfont: Font family ['D2Coding'] not found. Falling back to DejaVu Sans.\n",
      "/opt/conda/envs/py37/lib/python3.7/site-packages/IPython/core/pylabtools.py:151: UserWarning: Glyph 54620 (\\N{HANGUL SYLLABLE HAN}) missing from current font.\n",
      "  fig.canvas.print_figure(bytes_io, **kw)\n",
      "/opt/conda/envs/py37/lib/python3.7/site-packages/IPython/core/pylabtools.py:151: UserWarning: Glyph 44544 (\\N{HANGUL SYLLABLE GEUL}) missing from current font.\n",
      "  fig.canvas.print_figure(bytes_io, **kw)\n",
      "/opt/conda/envs/py37/lib/python3.7/site-packages/IPython/core/pylabtools.py:151: UserWarning: Glyph 54256 (\\N{HANGUL SYLLABLE PON}) missing from current font.\n",
      "  fig.canvas.print_figure(bytes_io, **kw)\n",
      "/opt/conda/envs/py37/lib/python3.7/site-packages/IPython/core/pylabtools.py:151: UserWarning: Glyph 53944 (\\N{HANGUL SYLLABLE TEU}) missing from current font.\n",
      "  fig.canvas.print_figure(bytes_io, **kw)\n",
      "/opt/conda/envs/py37/lib/python3.7/site-packages/IPython/core/pylabtools.py:151: UserWarning: Glyph 53580 (\\N{HANGUL SYLLABLE TE}) missing from current font.\n",
      "  fig.canvas.print_figure(bytes_io, **kw)\n",
      "/opt/conda/envs/py37/lib/python3.7/site-packages/IPython/core/pylabtools.py:151: UserWarning: Glyph 49828 (\\N{HANGUL SYLLABLE SEU}) missing from current font.\n",
      "  fig.canvas.print_figure(bytes_io, **kw)\n",
      "findfont: Font family ['D2Coding'] not found. Falling back to DejaVu Sans.\n"
     ]
    },
    {
     "data": {
      "image/png": "[encoded data removed]",
      "text/plain": [
       "<Figure size 720x432 with 1 Axes>"
      ]
     },
     "metadata": {
      "needs_background": "light"
     },
     "output_type": "display_data"
    }
   ],
   "source": [
    "# D2Coding\n",
    "plt.rcParams['font.family'] = \"D2Coding\"\n",
    "data = {\n",
    "    '한글테스트': [10, 20, 30, 40, 50]\n",
    "}\n",
    "pd.DataFrame(data).plot(kind='bar')\n",
    "plt.title('한글 폰트 테스트', fontsize=15)\n",
    "plt.show()"
   ]
  },
  {
   "cell_type": "code",
   "execution_count": 5,
   "id": "formal-dayton",
   "metadata": {},
   "outputs": [
    {
     "name": "stderr",
     "output_type": "stream",
     "text": [
      "findfont: Font family ['NanumGothic'] not found. Falling back to DejaVu Sans.\n",
      "findfont: Font family ['NanumGothic'] not found. Falling back to DejaVu Sans.\n"
     ]
    },
    {
     "data": {
      "image/png": "[encoded data removed]",
      "text/plain": [
       "<Figure size 720x432 with 1 Axes>"
      ]
     },
     "metadata": {
      "needs_background": "light"
     },
     "output_type": "display_data"
    }
   ],
   "source": [
    "# NanumGothic\n",
    "plt.rcParams['font.family'] = \"NanumGothic\"\n",
    "data = {\n",
    "    '한글테스트': [10, 20, 30, 40, 50]\n",
    "}\n",
    "pd.DataFrame(data).plot(kind='bar')\n",
    "plt.title('한글 폰트 테스트', fontsize=15)\n",
    "plt.show()"
   ]
  },
  {
   "cell_type": "code",
   "execution_count": 6,
   "id": "considered-calvin",
   "metadata": {},
   "outputs": [
    {
     "name": "stderr",
     "output_type": "stream",
     "text": [
      "findfont: Font family ['NanumSquare'] not found. Falling back to DejaVu Sans.\n",
      "findfont: Font family ['NanumSquare'] not found. Falling back to DejaVu Sans.\n"
     ]
    },
    {
     "data": {
      "image/png": "[encoded data removed]",
      "text/plain": [
       "<Figure size 720x432 with 1 Axes>"
      ]
     },
     "metadata": {
      "needs_background": "light"
     },
     "output_type": "display_data"
    }
   ],
   "source": [
    "# NanumSquare\n",
    "plt.rcParams['font.family'] = \"NanumSquare\"\n",
    "data = {\n",
    "    '한글테스트': [10, 20, 30, 40, 50]\n",
    "}\n",
    "pd.DataFrame(data).plot(kind='bar')\n",
    "plt.title('한글 폰트 테스트', fontsize=15)\n",
    "plt.show()"
   ]
  },
  {
   "cell_type": "markdown",
   "id": "dangerous-stack",
   "metadata": {},
   "source": [
    "## 기타 패키지 출력"
   ]
  },
  {
   "cell_type": "code",
   "execution_count": 7,
   "id": "moving-story",
   "metadata": {
    "scrolled": true
   },
   "outputs": [
    {
     "name": "stdout",
     "output_type": "stream",
     "text": [
      "Package                  Version\r\n",
      "------------------------ ------------\r\n",
      "absl-py                  0.15.0\r\n",
      "alembic                  1.7.6\r\n",
      "appdirs                  1.4.4\r\n",
      "argon2-cffi              21.3.0\r\n",
      "argon2-cffi-bindings     21.2.0\r\n",
      "astunparse               1.6.3\r\n",
      "attrs                    21.4.0\r\n",
      "audioread                2.1.9\r\n",
      "autopage                 0.5.0\r\n",
      "backcall                 0.2.0\r\n",
      "bleach                   4.1.0\r\n",
      "branca                   0.4.2\r\n",
      "cached-property          1.5.2\r\n",
      "cachetools               5.0.0\r\n",
      "catboost                 1.0.4\r\n",
      "certifi                  2021.10.8\r\n",
      "cffi                     1.15.0\r\n",
      "charset-normalizer       2.0.12\r\n",
      "clang                    5.0\r\n",
      "click                    8.0.4\r\n",
      "cliff                    3.10.1\r\n",
      "cloudpickle              2.0.0\r\n",
      "cmaes                    0.8.2\r\n",
      "cmd2                     2.3.3\r\n",
      "colorlog                 6.6.0\r\n",
      "cupy-cuda112             10.1.0\r\n",
      "cycler                   0.11.0\r\n",
      "debugpy                  1.5.1\r\n",
      "decorator                5.1.1\r\n",
      "defusedxml               0.7.1\r\n",
      "dill                     0.3.4\r\n",
      "entrypoints              0.4\r\n",
      "fastrlock                0.8\r\n",
      "flatbuffers              1.12\r\n",
      "folium                   0.12.1.post1\r\n",
      "fonttools                4.29.1\r\n",
      "future                   0.18.2\r\n",
      "gast                     0.4.0\r\n",
      "gensim                   4.1.2\r\n",
      "google-auth              2.6.0\r\n",
      "google-auth-oauthlib     0.4.6\r\n",
      "google-pasta             0.2.0\r\n",
      "googleapis-common-protos 1.54.0\r\n",
      "graphviz                 0.19.1\r\n",
      "greenlet                 1.1.2\r\n",
      "grpcio                   1.44.0\r\n",
      "h5py                     3.1.0\r\n",
      "hyperopt                 0.2.7\r\n",
      "idna                     3.3\r\n",
      "importlib-metadata       4.11.1\r\n",
      "importlib-resources      5.4.0\r\n",
      "intel-openmp             2022.0.2\r\n",
      "ipykernel                6.9.1\r\n",
      "ipython                  7.31.1\r\n",
      "ipython-genutils         0.2.0\r\n",
      "ipywidgets               7.6.5\r\n",
      "jedi                     0.18.1\r\n",
      "Jinja2                   3.0.3\r\n",
      "joblib                   1.1.0\r\n",
      "jsonschema               4.4.0\r\n",
      "jupyter                  1.0.0\r\n",
      "jupyter-client           7.1.2\r\n",
      "jupyter-console          6.4.0\r\n",
      "jupyter-core             4.9.2\r\n",
      "jupyterlab-pygments      0.1.2\r\n",
      "jupyterlab-widgets       1.0.2\r\n",
      "kaggle                   1.5.12\r\n",
      "keras                    2.8.0\r\n",
      "Keras-Preprocessing      1.1.2\r\n",
      "kiwisolver               1.3.2\r\n",
      "librosa                  0.9.1\r\n",
      "llvmlite                 0.38.0\r\n",
      "Mako                     1.1.6\r\n",
      "Markdown                 3.3.6\r\n",
      "MarkupSafe               2.1.0\r\n",
      "matplotlib               3.5.1\r\n",
      "matplotlib-inline        0.1.3\r\n",
      "missingno                0.5.0\r\n",
      "mistune                  0.8.4\r\n",
      "mkl                      2022.0.2\r\n",
      "mlxtend                  0.19.0\r\n",
      "nbclient                 0.5.11\r\n",
      "nbconvert                6.4.2\r\n",
      "nbformat                 5.1.3\r\n",
      "nest-asyncio             1.5.4\r\n",
      "networkx                 2.6.3\r\n",
      "nltk                     3.7\r\n",
      "notebook                 6.4.8\r\n",
      "numba                    0.55.1\r\n",
      "numpy                    1.19.5\r\n",
      "oauthlib                 3.2.0\r\n",
      "opt-einsum               3.3.0\r\n",
      "optuna                   2.10.0\r\n",
      "packaging                21.3\r\n",
      "pandas                   1.2.5\r\n",
      "pandocfilters            1.5.0\r\n",
      "parso                    0.8.3\r\n",
      "pbr                      5.8.1\r\n",
      "pexpect                  4.8.0\r\n",
      "pickleshare              0.7.5\r\n",
      "Pillow                   9.0.1\r\n",
      "pip                      21.2.2\r\n",
      "plotly                   5.6.0\r\n",
      "pooch                    1.6.0\r\n",
      "prettytable              3.1.1\r\n",
      "prometheus-client        0.13.1\r\n",
      "promise                  2.3\r\n",
      "prompt-toolkit           3.0.28\r\n",
      "protobuf                 3.19.4\r\n",
      "ptyprocess               0.7.0\r\n",
      "py4j                     0.10.9.3\r\n",
      "pyasn1                   0.4.8\r\n",
      "pyasn1-modules           0.2.8\r\n",
      "pycparser                2.21\r\n",
      "Pygments                 2.11.2\r\n",
      "PyMySQL                  1.0.2\r\n",
      "pyparsing                3.0.7\r\n",
      "pyperclip                1.8.2\r\n",
      "pyrsistent               0.18.1\r\n",
      "python-dateutil          2.8.2\r\n",
      "python-slugify           6.0.1\r\n",
      "pytz                     2021.3\r\n",
      "PyYAML                   6.0\r\n",
      "pyzmq                    22.3.0\r\n",
      "qtconsole                5.2.2\r\n",
      "QtPy                     2.0.1\r\n",
      "regex                    2022.1.18\r\n",
      "requests                 2.27.1\r\n",
      "requests-oauthlib        1.3.1\r\n",
      "resampy                  0.2.2\r\n",
      "rsa                      4.8\r\n",
      "scikit-learn             1.0.2\r\n",
      "scipy                    1.7.3\r\n",
      "seaborn                  0.11.2\r\n",
      "Send2Trash               1.8.0\r\n",
      "setuptools               58.0.4\r\n",
      "six                      1.15.0\r\n",
      "smart-open               5.2.1\r\n",
      "SoundFile                0.10.3.post1\r\n",
      "SQLAlchemy               1.4.31\r\n",
      "stevedore                3.5.0\r\n",
      "tbb                      2021.5.1\r\n",
      "tenacity                 8.0.1\r\n",
      "tensorboard              2.8.0\r\n",
      "tensorboard-data-server  0.6.1\r\n",
      "tensorboard-plugin-wit   1.8.1\r\n",
      "tensorflow               2.6.0\r\n",
      "tensorflow-datasets      4.5.2\r\n",
      "tensorflow-estimator     2.8.0\r\n",
      "tensorflow-metadata      1.6.0\r\n",
      "termcolor                1.1.0\r\n",
      "terminado                0.13.1\r\n",
      "testpath                 0.5.0\r\n",
      "text-unidecode           1.3\r\n",
      "threadpoolctl            3.1.0\r\n",
      "tornado                  6.1\r\n",
      "tqdm                     4.62.3\r\n",
      "traitlets                5.1.1\r\n",
      "typing-extensions        3.7.4.3\r\n",
      "urllib3                  1.26.8\r\n",
      "wcwidth                  0.2.5\r\n",
      "webencodings             0.5.1\r\n",
      "Werkzeug                 2.0.3\r\n",
      "wheel                    0.37.1\r\n",
      "widgetsnbextension       3.5.2\r\n",
      "wordcloud                1.8.1\r\n",
      "wrapt                    1.12.1\r\n",
      "zipp                     3.7.0\r\n"
     ]
    }
   ],
   "source": [
    "!pip list"
   ]
  },
  {
   "cell_type": "markdown",
   "id": "cacf5010",
   "metadata": {},
   "source": [
    "## password"
   ]
  },
  {
   "cell_type": "code",
   "execution_count": 8,
   "id": "04952d85",
   "metadata": {},
   "outputs": [
    {
     "name": "stdout",
     "output_type": "stream",
     "text": [
      "Enter password: ········\n",
      "Verify password: ········\n"
     ]
    },
    {
     "data": {
      "text/plain": [
       "'argon2:$argon2id$v=19$m=10240,t=10,p=8$R7FrsiJ5kODtUu/BO+j8BA$8B9Y6dV46CDRSMDT7syhf3qqGndYTUNhFOnoxs13PrM'"
      ]
     },
     "execution_count": 8,
     "metadata": {},
     "output_type": "execute_result"
    }
   ],
   "source": [
    "from notebook.auth import passwd\n",
    "passwd()"
   ]
  },
  {
   "cell_type": "code",
   "execution_count": null,
   "id": "e120b048",
   "metadata": {},
   "outputs": [],
   "source": []
  }
 ],
 "metadata": {
  "kernelspec": {
   "display_name": "Python 3 (ipykernel)",
   "language": "python",
   "name": "python3"
  },
  "language_info": {
   "codemirror_mode": {
    "name": "ipython",
    "version": 3
   },
   "file_extension": ".py",
   "mimetype": "text/x-python",
   "name": "python",
   "nbconvert_exporter": "python",
   "pygments_lexer": "ipython3",
   "version": "3.7.11"
  }
 },
 "nbformat": 4,
 "nbformat_minor": 5
}
